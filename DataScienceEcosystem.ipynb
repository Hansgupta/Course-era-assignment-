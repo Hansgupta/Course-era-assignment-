{
  "metadata": {
    "language_info": {
      "codemirror_mode": {
        "name": "python",
        "version": 3
      },
      "file_extension": ".py",
      "mimetype": "text/x-python",
      "name": "python",
      "nbconvert_exporter": "python",
      "pygments_lexer": "ipython3",
      "version": "3.8"
    },
    "kernelspec": {
      "name": "python",
      "display_name": "Pyolite",
      "language": "python"
    }
  },
  "nbformat_minor": 4,
  "nbformat": 4,
  "cells": [
    {
      "cell_type": "markdown",
      "source": "## Data Science Tools and Ecosystem\n",
      "metadata": {}
    },
    {
      "cell_type": "code",
      "source": "In this notebook, Data Science Tools and Ecosystem are summarized.",
      "metadata": {},
      "execution_count": null,
      "outputs": []
    },
    {
      "cell_type": "markdown",
      "source": "**Objectives:**\n\n- List popular languages for Data Science\n- Introduce common data science libraries\n- Demonstrate arithmetic expressions in Python\n- Convert minutes to hours using Python\n- Provide an overview of key concepts in the Data Science ecosystem\n",
      "metadata": {}
    },
    {
      "cell_type": "markdown",
      "source": "## Some of the popular languages that Data Scientists use are:\nSQL\nPYTHON\nR",
      "metadata": {}
    },
    {
      "cell_type": "markdown",
      "source": "### Data Science Libraries\n\n- NumPy\n- pandas\n- scikit-learn\n- TensorFlow\n- PyTorch\n- Keras\n- Matplotlib\n- Seaborn\n- Plotly\n- NLTK\n\n",
      "metadata": {}
    },
    {
      "cell_type": "markdown",
      "source": "### Data Science Tools\n\n| Tool        | Description                                      |\n|-------------|--------------------------------------------------|\n| Python      | General-purpose programming language              |\n| R           | Statistical programming language                  |\n| Julia       | High-level, high-performance programming language |\n| Scala       | Scalable language for data processing             |\n| MATLAB      | Numerical computing and simulation environment    |\n| Jupyter     | Interactive notebook for data science             |\n| Pandas      | Data manipulation library for Python              |\n| NumPy       | Numerical computing library for Python             |\n| Scikit-learn| Machine learning library for Python               |\n| TensorFlow  | Deep learning framework                           |\n| PyTorch     | Deep learning framework                           |\n| Matplotlib  | Data visualization library for Python             |\n| Seaborn     | Statistical data visualization library            |\n| Plotly      | Interactive visualization library                 |\n| NLTK        | Natural language processing library               |\n",
      "metadata": {}
    },
    {
      "cell_type": "code",
      "source": "### Data Science Tools\n\n| Tool        | Description                                      |\n|-------------|--------------------------------------------------|\n| Python      | General-purpose programming language              |\n| R           | Statistical programming language                  |\n| Julia       | High-level, high-performance programming language |\n\n",
      "metadata": {
        "trusted": true
      },
      "execution_count": 1,
      "outputs": [
        {
          "ename": "<class 'SyntaxError'>",
          "evalue": "invalid syntax (<ipython-input-1-cc2dc64259cd>, line 3)",
          "traceback": [
            "\u001b[0;36m  Cell \u001b[0;32mIn[1], line 3\u001b[0;36m\u001b[0m\n\u001b[0;31m    | Tool        | Description                                      |\u001b[0m\n\u001b[0m    ^\u001b[0m\n\u001b[0;31mSyntaxError\u001b[0m\u001b[0;31m:\u001b[0m invalid syntax\n"
          ],
          "output_type": "error"
        }
      ]
    },
    {
      "cell_type": "code",
      "source": "### Data Science Tools\n\n| Tool        | Description                                      |\n|-------------|--------------------------------------------------|\n| Python      | General-purpose programming language              |\n| R           | Statistical programming language                  |\n| Julia       | High-level, high-performance programming language |\n| Scala       | Scalable language for data processing             |\n| MATLAB      | Numerical computing and simulation environment    |\n| Jupyter     | Interactive notebook for data science             |\n| Pandas      | Data manipulation library for Python              |\n| NumPy       | Numerical computing library for Python             |\n| Scikit-learn| Machine learning library for Python               |\n| TensorFlow  | Deep learning framework                           |\n| PyTorch     | Deep learning framework                           |\n| Matplotlib  | Data visualization library for Python             |\n| Seaborn     | Statistical data visualization library            |\n| Plotly      | Interactive visualization library                 |\n| NLTK        | Natural language processing library               |\n",
      "metadata": {
        "trusted": true
      },
      "execution_count": 2,
      "outputs": [
        {
          "ename": "<class 'SyntaxError'>",
          "evalue": "invalid syntax (<ipython-input-2-65632f487baa>, line 3)",
          "traceback": [
            "\u001b[0;36m  Cell \u001b[0;32mIn[2], line 3\u001b[0;36m\u001b[0m\n\u001b[0;31m    | Tool        | Description                                      |\u001b[0m\n\u001b[0m    ^\u001b[0m\n\u001b[0;31mSyntaxError\u001b[0m\u001b[0;31m:\u001b[0m invalid syntax\n"
          ],
          "output_type": "error"
        }
      ]
    },
    {
      "cell_type": "code",
      "source": "### Data Science Tools\n\n| Tool        | Description                                      |\n|-------------|--------------------------------------------------|\n| Python      | General-purpose programming language              |\n| R           | Statistical programming language                  |\n| Julia       | High-level, high-performance programming language |\n| Scala       | Scalable language for data processing             |\n| MATLAB      | Numerical computing and simulation environment    |\n| Jupyter     | Interactive notebook for data science             |\n| Pandas      | Data manipulation library for Python              |\n| NumPy       | Numerical computing library for Python             |\n| Scikit-learn| Machine learning library for Python               |\n| TensorFlow  | Deep learning framework                           |\n| PyTorch     | Deep learning framework                           |\n| Matplotlib  | Data visualization library for Python             |\n| Seaborn     | Statistical data visualization library            |\n| Plotly      | Interactive visualization library                 |\n| NLTK        | Natural language processing library               |\n",
      "metadata": {
        "trusted": true
      },
      "execution_count": 3,
      "outputs": [
        {
          "ename": "<class 'SyntaxError'>",
          "evalue": "invalid syntax (<ipython-input-3-65632f487baa>, line 3)",
          "traceback": [
            "\u001b[0;36m  Cell \u001b[0;32mIn[3], line 3\u001b[0;36m\u001b[0m\n\u001b[0;31m    | Tool        | Description                                      |\u001b[0m\n\u001b[0m    ^\u001b[0m\n\u001b[0;31mSyntaxError\u001b[0m\u001b[0;31m:\u001b[0m invalid syntax\n"
          ],
          "output_type": "error"
        }
      ]
    },
    {
      "cell_type": "markdown",
      "source": "### Data Science Tools\n\n| Tool         | Description                                       |\n|--------------|---------------------------------------------------|\n| Python       | General-purpose programming language               |\n| R            | Statistical programming language                   |\n| Julia        | High-level, high-performance programming language  |\n\n",
      "metadata": {}
    },
    {
      "cell_type": "markdown",
      "source": "### Arithmetic Expression Examples\n\nArithmetic expressions are mathematical calculations involving numbers and operators. They are fundamental in programming and data science. Here are a few examples of arithmetic expressions:\n\n1. Addition: Adding two numbers together.\n   ```python\n   2 + 3\n",
      "metadata": {}
    },
    {
      "cell_type": "code",
      "source": "result = (3 * 4) + 5\nprint(result)\n",
      "metadata": {
        "trusted": true
      },
      "execution_count": 4,
      "outputs": [
        {
          "name": "stdout",
          "text": "17\n",
          "output_type": "stream"
        }
      ]
    },
    {
      "cell_type": "code",
      "source": "minutes = 200\nhours = minutes / 60\nprint(hours)\n",
      "metadata": {
        "trusted": true
      },
      "execution_count": 5,
      "outputs": [
        {
          "name": "stdout",
          "text": "3.3333333333333335\n",
          "output_type": "stream"
        }
      ]
    },
    {
      "cell_type": "markdown",
      "source": "Author\nAuthor: Hans Gupta\n",
      "metadata": {}
    },
    {
      "cell_type": "code",
      "source": "",
      "metadata": {},
      "execution_count": null,
      "outputs": []
    }
  ]
}